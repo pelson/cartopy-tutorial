{
 "cells": [
  {
   "cell_type": "markdown",
   "metadata": {},
   "source": [
    "TODO: Improve the cartopy interface for this. It is **ugly**!"
   ]
  },
  {
   "cell_type": "markdown",
   "metadata": {},
   "source": [
    "# Exercise 1: Geodesy / Geodetic"
   ]
  },
  {
   "cell_type": "code",
   "execution_count": 2,
   "metadata": {},
   "outputs": [],
   "source": [
    "route = [('London', -0.1276474, 51.5073219),\n",
    "         ('Suez', 32.537086, 29.974498),\n",
    "         ('Bombay', 72.8882172, 19.1334321),\n",
    "         ('Calcutta', 88.3476023, 22.5677459),\n",
    "         ('Hong Kong', 114.1628131, 22.2793278),\n",
    "         ('Yokohama', 139.636768, 35.444991),\n",
    "         ('San Francisco', -122.4629897, 37.7647993),\n",
    "         ('New York City', -73.9866136, 40.7306458),\n",
    "         ('London', -0.1276474, 51.5073219)]"
   ]
  },
  {
   "cell_type": "code",
   "execution_count": 3,
   "metadata": {},
   "outputs": [],
   "source": [
    "import cartopy.crs as ccrs\n",
    "\n",
    "import cartopy.geodesic"
   ]
  },
  {
   "cell_type": "code",
   "execution_count": 4,
   "metadata": {},
   "outputs": [],
   "source": [
    "geod = cartopy.geodesic.Geodesic()"
   ]
  },
  {
   "cell_type": "code",
   "execution_count": 8,
   "metadata": {},
   "outputs": [],
   "source": [
    "locations, xs, ys = zip(*route)\n",
    "points = list(zip(xs, ys))"
   ]
  },
  {
   "cell_type": "code",
   "execution_count": 17,
   "metadata": {},
   "outputs": [],
   "source": [
    "import numpy as np\n",
    "distances, azi_0, azi_1 = np.array(geod.inverse(points[:-1], points[1:])).T"
   ]
  },
  {
   "cell_type": "code",
   "execution_count": 23,
   "metadata": {},
   "outputs": [
    {
     "data": {
      "text/plain": [
       "33044.0"
      ]
     },
     "execution_count": 23,
     "metadata": {},
     "output_type": "execute_result"
    }
   ],
   "source": [
    "distances.sum() // 1000"
   ]
  },
  {
   "cell_type": "markdown",
   "metadata": {},
   "source": [
    "Extension: Given the anticipated times (in days), compute the average speed (km/h) of each leg.\n",
    "\n",
    "Given the fastest ship to cross the Atlantic at the time averaged around 18 knots (33.3 km/h), does the time scale seem reasonable?"
   ]
  },
  {
   "cell_type": "code",
   "execution_count": 24,
   "metadata": {},
   "outputs": [],
   "source": [
    "estimated_time = [7, 13, 3, 13, 6, 22, 7, 9]"
   ]
  },
  {
   "cell_type": "code",
   "execution_count": 32,
   "metadata": {},
   "outputs": [
    {
     "data": {
      "text/plain": [
       "array([ 21.41953002,  13.57858276,  22.9484713 ,   8.50835273,\n",
       "        19.92278005,  15.73257727,  24.66869034,  25.84596554])"
      ]
     },
     "execution_count": 32,
     "metadata": {},
     "output_type": "execute_result"
    }
   ],
   "source": [
    "distances / estimated_time / 24 / 1000"
   ]
  },
  {
   "cell_type": "code",
   "execution_count": null,
   "metadata": {},
   "outputs": [],
   "source": []
  }
 ],
 "metadata": {
  "kernelspec": {
   "display_name": "Python 3",
   "language": "python",
   "name": "python3"
  },
  "language_info": {
   "codemirror_mode": {
    "name": "ipython",
    "version": 3
   },
   "file_extension": ".py",
   "mimetype": "text/x-python",
   "name": "python",
   "nbconvert_exporter": "python",
   "pygments_lexer": "ipython3",
   "version": "3.6.5"
  }
 },
 "nbformat": 4,
 "nbformat_minor": 2
}
