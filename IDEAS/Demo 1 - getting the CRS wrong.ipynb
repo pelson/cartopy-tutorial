{
 "cells": [
  {
   "cell_type": "markdown",
   "metadata": {},
   "source": [
    "This demonstration shows the effect of having the wrong reference for exactly the same coordinate."
   ]
  },
  {
   "cell_type": "code",
   "execution_count": null,
   "metadata": {},
   "outputs": [],
   "source": [
    "london = -0.1276474, 51.5073219"
   ]
  },
  {
   "cell_type": "code",
   "execution_count": 2,
   "metadata": {},
   "outputs": [],
   "source": [
    "import cartopy.crs as ccrs"
   ]
  },
  {
   "cell_type": "code",
   "execution_count": 6,
   "metadata": {},
   "outputs": [],
   "source": [
    "wgs84 = ccrs.Globe(datum='WGS84')\n",
    "sphere = ccrs.Globe(ellipse='sphere', datum='WGS84')"
   ]
  },
  {
   "cell_type": "markdown",
   "metadata": {},
   "source": [
    "TODO: transform_points should live on the globe too..."
   ]
  },
  {
   "cell_type": "code",
   "execution_count": 9,
   "metadata": {},
   "outputs": [
    {
     "data": {
      "text/plain": [
       "(-0.12764739999999997, 51.694484859649194)"
      ]
     },
     "execution_count": 9,
     "metadata": {},
     "output_type": "execute_result"
    }
   ],
   "source": [
    "london_if_sphere = ccrs.Geodetic(globe=wgs84).transform_point(london[0], london[1], ccrs.Geodetic(globe=sphere))\n",
    "london_if_sphere"
   ]
  },
  {
   "cell_type": "code",
   "execution_count": 12,
   "metadata": {},
   "outputs": [],
   "source": [
    "import cartopy.geodesic\n",
    "\n",
    "# TODO: This should also be on the globe.\n",
    "geod = cartopy.geodesic.Geodesic()"
   ]
  },
  {
   "cell_type": "code",
   "execution_count": 29,
   "metadata": {},
   "outputs": [
    {
     "data": {
      "text/plain": [
       "'20823m'"
      ]
     },
     "execution_count": 29,
     "metadata": {},
     "output_type": "execute_result"
    }
   ],
   "source": [
    "# TODO: Tidy this interface\n",
    "import numpy as np\n",
    "distance = np.array(geod.inverse([london], london_if_sphere))[0, 0]\n",
    "\n",
    "'{}m'.format(int(distance))"
   ]
  },
  {
   "cell_type": "markdown",
   "metadata": {},
   "source": [
    "In summary, if you reference your data incorrectly, you can see some serious alignment issues. In this case, assuming the coordinates of London were spherical, not WGS84 resulted in ~20KM error."
   ]
  }
 ],
 "metadata": {
  "kernelspec": {
   "display_name": "Python 3",
   "language": "python",
   "name": "python3"
  },
  "language_info": {
   "codemirror_mode": {
    "name": "ipython",
    "version": 3
   },
   "file_extension": ".py",
   "mimetype": "text/x-python",
   "name": "python",
   "nbconvert_exporter": "python",
   "pygments_lexer": "ipython3",
   "version": "3.6.5"
  }
 },
 "nbformat": 4,
 "nbformat_minor": 2
}
